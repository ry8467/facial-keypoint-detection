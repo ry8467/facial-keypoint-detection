{
 "cells": [
  {
   "cell_type": "code",
   "execution_count": null,
   "id": "50dab93f",
   "metadata": {},
   "outputs": [],
   "source": [
    "# Core libraries\n",
    "import os\n",
    "import pathlib\n",
    "import numpy as np\n",
    "import pandas as pd\n",
    "import matplotlib.pyplot as plt\n",
    "from PIL import Image\n",
    "\n",
    "# PyTorch and torchvision\n",
    "import torch\n",
    "import torch.nn as nn\n",
    "import torch.nn.functional as F\n",
    "import torch.optim as optim\n",
    "from torch.optim import Adam\n",
    "from torch.utils.data import Dataset, DataLoader, random_split\n",
    "\n",
    "import torchvision\n",
    "from torchvision import models, transforms, datasets\n",
    "from torchvision.io import read_image"
   ]
  },
  {
   "cell_type": "code",
   "execution_count": null,
   "id": "56dbb71f",
   "metadata": {},
   "outputs": [],
   "source": [
    "!unzip .\\facial-keypoint-detection\\data\\test.zip"
   ]
  },
  {
   "cell_type": "code",
   "execution_count": null,
   "id": "f343d484",
   "metadata": {},
   "outputs": [],
   "source": [
    "!unzip .\\facial-keypoint-detection\\data\\training.zip"
   ]
  },
  {
   "cell_type": "code",
   "execution_count": null,
   "id": "02b79610",
   "metadata": {},
   "outputs": [],
   "source": [
    "class FacialKeypointsDataset(Dataset):\n",
    "    def __init__(self, csv_file, root_dir, transform=None):\n",
    "        self.keypoints_frame = pd.read_csv(csv_file)\n",
    "        self.root_dir = root_dir\n",
    "        self.transform = transform\n",
    "\n",
    "    def __len__(self):\n",
    "        return len(self.keypoints_frame)\n",
    "\n",
    "    def __getitem__(self, idx):\n",
    "        img_name = os.path.join(self.root_dir, self.keypoints_frame.iloc[idx, 0])\n",
    "        image = Image.open(img_name).convert(\"L\")\n",
    "        keypoints = self.keypoints_frame.iloc[idx, 1:].values.astype('float').reshape(-1, 2)\n",
    "\n",
    "        if self.transform:\n",
    "            image = self.transform(image)\n",
    "\n",
    "        return image, keypoints"
   ]
  },
  {
   "cell_type": "code",
   "execution_count": null,
   "id": "bc072173",
   "metadata": {},
   "outputs": [],
   "source": [
    "transform = transforms.Compose([\n",
    "    transforms.Resize((100, 100)),\n",
    "    transforms.ToTensor(),\n",
    "    transforms.Normalize(mean=[0.5], std=[0.5])\n",
    "])"
   ]
  },
  {
   "cell_type": "code",
   "execution_count": null,
   "id": "404a3489",
   "metadata": {},
   "outputs": [],
   "source": []
  },
  {
   "cell_type": "code",
   "execution_count": null,
   "id": "de8f8d19",
   "metadata": {},
   "outputs": [],
   "source": []
  }
 ],
 "metadata": {
  "kernelspec": {
   "display_name": "Python 3",
   "language": "python",
   "name": "python3"
  },
  "language_info": {
   "name": "python",
   "version": "3.12.0"
  }
 },
 "nbformat": 4,
 "nbformat_minor": 5
}
