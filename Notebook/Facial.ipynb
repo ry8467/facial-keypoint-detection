{
  "nbformat": 4,
  "nbformat_minor": 0,
  "metadata": {
    "colab": {
      "provenance": []
    },
    "kernelspec": {
      "name": "python3",
      "display_name": "Python 3"
    },
    "language_info": {
      "name": "python"
    }
  },
  "cells": [
    {
      "cell_type": "code",
      "execution_count": 1,
      "metadata": {
        "id": "G5ulIGJCc1lS"
      },
      "outputs": [],
      "source": [
        "import os\n",
        "import pathlib\n",
        "import numpy as np\n",
        "import pandas as pd\n",
        "import matplotlib.pyplot as plt\n",
        "from PIL import Image\n",
        "\n",
        "import torch\n",
        "import torch.nn as nn\n",
        "import torch.nn.functional as F\n",
        "import torch.optim as optim\n",
        "from torch.optim import Adam\n",
        "from torch.utils.data import Dataset, DataLoader, random_split\n",
        "\n",
        "import torchvision\n",
        "from torchvision import models, transforms, datasets\n",
        "from torchvision.io import read_image"
      ]
    },
    {
      "cell_type": "code",
      "source": [
        "!unzip ./data/test.zip"
      ],
      "metadata": {
        "colab": {
          "base_uri": "https://localhost:8080/"
        },
        "id": "qiF6Jknuc6JI",
        "outputId": "fa471d34-f10f-402b-a25d-7dbb67dd1b6f"
      },
      "execution_count": 2,
      "outputs": [
        {
          "output_type": "stream",
          "name": "stdout",
          "text": [
            "Archive:  ./data/test.zip\n",
            "  inflating: test.csv                \n"
          ]
        }
      ]
    },
    {
      "cell_type": "code",
      "source": [
        "!unzip ./data/training.zip"
      ],
      "metadata": {
        "colab": {
          "base_uri": "https://localhost:8080/"
        },
        "id": "4kIC7G72dC4x",
        "outputId": "d2d4ffa0-4a86-41fd-ce5c-703a017eb70a"
      },
      "execution_count": 3,
      "outputs": [
        {
          "output_type": "stream",
          "name": "stdout",
          "text": [
            "Archive:  ./data/training.zip\n",
            "  inflating: training.csv            \n"
          ]
        }
      ]
    },
    {
      "cell_type": "code",
      "source": [
        "class FacialKeypointsDataset(Dataset):\n",
        "    def __init__(self, csv_file, root_dir, transform=None):\n",
        "        self.annotations = pd.read_csv(csv_file)\n",
        "        self.root_dir = root_dir\n",
        "        self.transform = transform\n",
        "\n",
        "        keypoint_columns = [\n",
        "            'left_eye_center_x', 'left_eye_center_y',\n",
        "            'right_eye_center_x', 'right_eye_center_y',\n",
        "            'left_eye_inner_corner_x', 'left_eye_inner_corner_y',\n",
        "            'left_eye_outer_corner_x', 'left_eye_outer_corner_y',\n",
        "            'right_eye_inner_corner_x', 'right_eye_inner_corner_y',\n",
        "            'right_eye_outer_corner_x', 'right_eye_outer_corner_y',\n",
        "            'left_eyebrow_inner_end_x', 'left_eyebrow_inner_end_y',\n",
        "            'left_eyebrow_outer_end_x', 'left_eyebrow_outer_end_y',\n",
        "            'right_eyebrow_inner_end_x', 'right_eyebrow_inner_end_y',\n",
        "            'right_eyebrow_outer_end_x', 'right_eyebrow_outer_end_y',\n",
        "            'nose_tip_x', 'nose_tip_y',\n",
        "            'mouth_left_corner_x', 'mouth_left_corner_y',\n",
        "            'mouth_right_corner_x', 'mouth_right_corner_y',\n",
        "            'mouth_center_top_lip_x', 'mouth_center_top_lip_y',\n",
        "            'mouth_center_bottom_lip_x', 'mouth_center_bottom_lip_y'\n",
        "        ]\n",
        "        self.keypoint_columns = [col for col in keypoint_columns if col in self.annotations.columns]\n",
        "\n",
        "\n",
        "\n",
        "    def __len__(self):\n",
        "        return len(self.annotations)\n",
        "\n",
        "    def __getitem__(self, idx):\n",
        "        img_name = os.path.join(self.root_dir, f'{idx}.png')\n",
        "        if not os.path.exists(img_name):\n",
        "             return None\n",
        "\n",
        "        image = Image.open(img_name).convert(\"L\")\n",
        "\n",
        "        label = self.annotations.loc[idx, self.keypoint_columns].values.astype('float32')\n",
        "\n",
        "        label[np.isnan(label)] = 0.0\n",
        "\n",
        "        label = torch.tensor(label)\n",
        "\n",
        "        if self.transform:\n",
        "            image = self.transform(image)\n",
        "\n",
        "        return image, label"
      ],
      "metadata": {
        "id": "eLctbv-pdlJh"
      },
      "execution_count": 4,
      "outputs": []
    },
    {
      "cell_type": "code",
      "source": [
        "output_dir = 'generated_images'\n",
        "os.makedirs(output_dir, exist_ok=True)\n",
        "\n",
        "train_df = pd.read_csv('./training.csv')\n",
        "\n",
        "for index, row in train_df.iterrows():\n",
        "    image_pixels = row['Image'].split(' ')\n",
        "    image_array = np.array([p for p in image_pixels if p != ''], dtype=np.uint8)\n",
        "\n",
        "    try:\n",
        "        img = Image.fromarray(image_array.reshape(96, 96), mode='L')\n",
        "        filename = f'{output_dir}/{index}.png'\n",
        "        img.save(filename)\n",
        "    except ValueError as e:\n",
        "        print(f\"Skipping row {index} due to incorrect pixel data length: {e}\")\n",
        "        continue\n",
        "\n",
        "print(f\"Generated {len(train_df)} images in the '{output_dir}' directory.\")"
      ],
      "metadata": {
        "id": "SX_JYBc3d3Ku",
        "colab": {
          "base_uri": "https://localhost:8080/"
        },
        "outputId": "60db4029-8878-49e8-d3a7-7f8526b6f27f"
      },
      "execution_count": 5,
      "outputs": [
        {
          "output_type": "stream",
          "name": "stdout",
          "text": [
            "Generated 7049 images in the 'generated_images' directory.\n"
          ]
        }
      ]
    },
    {
      "cell_type": "code",
      "source": [
        "transform = transforms.Compose([\n",
        "    transforms.Resize((100, 100)),\n",
        "    transforms.ToTensor(),\n",
        "    transforms.Normalize(mean=[0.5], std=[0.5])\n",
        "])"
      ],
      "metadata": {
        "id": "BAt7zRwX2taQ"
      },
      "execution_count": 6,
      "outputs": []
    },
    {
      "cell_type": "code",
      "source": [
        "csv_file='training.csv'\n",
        "root_dir='generated_images'\n",
        "dataset = FacialKeypointsDataset(csv_file, root_dir, transform=transform)"
      ],
      "metadata": {
        "id": "qnL0FcrF2ye3"
      },
      "execution_count": 7,
      "outputs": []
    },
    {
      "cell_type": "code",
      "source": [
        "valid_indices = [i for i in range(len(dataset)) if dataset[i] is not None]\n",
        "valid_dataset = torch.utils.data.Subset(dataset, valid_indices)"
      ],
      "metadata": {
        "id": "VW7Gt81SE35f"
      },
      "execution_count": 8,
      "outputs": []
    },
    {
      "cell_type": "code",
      "source": [
        "train_size = int(0.8 * len(valid_dataset))\n",
        "val_size = len(valid_dataset) - train_size\n",
        "train_set, val_set = random_split(valid_dataset, [train_size, val_size])"
      ],
      "metadata": {
        "id": "uyLvaogfE6Ba"
      },
      "execution_count": 9,
      "outputs": []
    },
    {
      "cell_type": "code",
      "source": [
        "train_loader = DataLoader(train_set, batch_size=32, shuffle=True)\n",
        "val_loader = DataLoader(val_set, batch_size=32)"
      ],
      "metadata": {
        "id": "ZPhPn0x02_XP"
      },
      "execution_count": 10,
      "outputs": []
    },
    {
      "cell_type": "code",
      "source": [
        "class KeypointCNN(nn.Module):\n",
        "    def __init__(self):\n",
        "        super(KeypointCNN, self).__init__()\n",
        "        self.features = nn.Sequential(\n",
        "            nn.Conv2d(1, 64, kernel_size=3),\n",
        "            nn.ReLU(),\n",
        "            nn.MaxPool2d(2),\n",
        "\n",
        "            nn.Conv2d(64, 128, kernel_size=3),\n",
        "            nn.ReLU(),\n",
        "            nn.MaxPool2d(2),\n",
        "\n",
        "            nn.Conv2d(128, 256, kernel_size=3),\n",
        "            nn.ReLU(),\n",
        "            nn.MaxPool2d(2),\n",
        "\n",
        "            nn.Dropout(0.1)\n",
        "        )\n",
        "\n",
        "        self.classifier = nn.Sequential(\n",
        "            nn.Flatten(),\n",
        "            nn.Linear(256 * 10 * 10, 64),\n",
        "            nn.ReLU(),\n",
        "            nn.Dropout(0.2),\n",
        "            nn.Linear(64, 30)\n",
        "        )\n",
        "\n",
        "    def forward(self, x):\n",
        "        x = self.features(x)\n",
        "        x = self.classifier(x)\n",
        "        return x"
      ],
      "metadata": {
        "id": "cADwxHUc3Dz7"
      },
      "execution_count": 11,
      "outputs": []
    },
    {
      "cell_type": "code",
      "source": [
        "device = torch.device('cpu')\n",
        "model = KeypointCNN().to(device)\n",
        "criterion = nn.MSELoss()\n",
        "optimizer = Adam(model.parameters(), lr=0.001)"
      ],
      "metadata": {
        "id": "xyCYbR0f6ahH"
      },
      "execution_count": 12,
      "outputs": []
    },
    {
      "cell_type": "code",
      "source": [
        "num_epochs = 15\n",
        "best_val_loss = float('inf')\n",
        "epoch = 0\n",
        "for epoch in range(num_epochs):\n",
        "    model.train()\n",
        "    running_loss = 0.0\n",
        "\n",
        "    for inputs, labels in train_loader:\n",
        "        inputs, labels = inputs.to(device), labels.to(device)\n",
        "\n",
        "        outputs = model(inputs)\n",
        "        loss = criterion(outputs, labels)\n",
        "\n",
        "        optimizer.zero_grad()\n",
        "        loss.backward()\n",
        "        optimizer.step()\n",
        "        running_loss += loss.item()\n",
        "\n",
        "    val_loss = 0.0\n",
        "    model.eval()\n",
        "    with torch.no_grad():\n",
        "        for inputs, labels in val_loader:\n",
        "            inputs, labels = inputs.to(device), labels.to(device)\n",
        "            outputs = model(inputs)\n",
        "            loss = criterion(outputs, labels)\n",
        "            val_loss += loss.item()\n",
        "loss = running_loss / len(train_loader)\n",
        "val_loss = val_loss / len(val_loader)\n",
        "if val_loss < best_val_loss:\n",
        "    best_val_loss = val_loss\n",
        "    torch.save(model.state_dict(), 'best_model.pth')\n",
        "print(f\"Epoch {epoch+1}/{num_epochs}, Training Loss: {loss:.4f}, Validation Loss: {val_loss:.4f}\")"
      ],
      "metadata": {
        "id": "KHV2jMM7Gxd_"
      },
      "execution_count": null,
      "outputs": []
    }
  ]
}