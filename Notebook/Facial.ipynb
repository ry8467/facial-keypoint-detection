{
  "cells": [
    {
      "cell_type": "markdown",
      "source": [
        "# Facial Keypoint Detection Demo"
      ],
      "metadata": {
        "id": "5QpQgcquUT5V"
      }
    },
    {
      "cell_type": "markdown",
      "metadata": {
        "id": "8348vFErMZLD"
      },
      "source": [
        "**Recommending runing in Google Colab**"
      ]
    },
    {
      "cell_type": "markdown",
      "metadata": {
        "id": "Y2AMyPZnMSdF"
      },
      "source": [
        "[![Open In Colab](https://colab.research.google.com/assets/colab-badge.svg)](\n",
        "https://colab.research.google.com/github/your-username/your-repo/blob/main/notebooks/your-notebook.ipynb)\n"
      ]
    },
    {
      "cell_type": "code",
      "execution_count": 1,
      "metadata": {
        "id": "G5ulIGJCc1lS"
      },
      "outputs": [],
      "source": [
        "import os\n",
        "import pathlib\n",
        "import numpy as np\n",
        "import pandas as pd\n",
        "import matplotlib.pyplot as plt\n",
        "from PIL import Image\n",
        "\n",
        "import torch\n",
        "import torch.nn as nn\n",
        "import torch.nn.functional as F\n",
        "import torch.optim as optim\n",
        "from torch.optim import Adam\n",
        "from torch.utils.data import Dataset, DataLoader, random_split\n",
        "\n",
        "import torchvision\n",
        "from torchvision import models, transforms, datasets\n",
        "from torchvision.io import read_image"
      ]
    },
    {
      "cell_type": "markdown",
      "source": [
        "## 1. Load and Visualize Data"
      ],
      "metadata": {
        "id": "HNsuVfS_UW0S"
      }
    },
    {
      "cell_type": "code",
      "execution_count": 2,
      "metadata": {
        "id": "qiF6Jknuc6JI",
        "colab": {
          "base_uri": "https://localhost:8080/"
        },
        "outputId": "52fc7ca5-62f1-4b85-ccbd-837cabf0d617"
      },
      "outputs": [
        {
          "output_type": "stream",
          "name": "stdout",
          "text": [
            "Archive:  ./data/test.zip\n",
            "  inflating: test.csv                \n"
          ]
        }
      ],
      "source": [
        "!unzip ./data/test.zip"
      ]
    },
    {
      "cell_type": "code",
      "execution_count": 3,
      "metadata": {
        "id": "4kIC7G72dC4x",
        "colab": {
          "base_uri": "https://localhost:8080/"
        },
        "outputId": "3a003ca5-7413-473e-f6a9-dd565b52b815"
      },
      "outputs": [
        {
          "output_type": "stream",
          "name": "stdout",
          "text": [
            "Archive:  ./data/training.zip\n",
            "  inflating: training.csv            \n"
          ]
        }
      ],
      "source": [
        "!unzip ./data/training.zip"
      ]
    },
    {
      "cell_type": "code",
      "execution_count": 4,
      "metadata": {
        "id": "eLctbv-pdlJh"
      },
      "outputs": [],
      "source": [
        "class FacialKeypointsDataset(Dataset):\n",
        "    def __init__(self, csv_file, root_dir, transform=None):\n",
        "        self.annotations = pd.read_csv(csv_file)\n",
        "        self.root_dir = root_dir\n",
        "        self.transform = transform\n",
        "\n",
        "        keypoint_columns = [\n",
        "            'left_eye_center_x', 'left_eye_center_y',\n",
        "            'right_eye_center_x', 'right_eye_center_y',\n",
        "            'left_eye_inner_corner_x', 'left_eye_inner_corner_y',\n",
        "            'left_eye_outer_corner_x', 'left_eye_outer_corner_y',\n",
        "            'right_eye_inner_corner_x', 'right_eye_inner_corner_y',\n",
        "            'right_eye_outer_corner_x', 'right_eye_outer_corner_y',\n",
        "            'left_eyebrow_inner_end_x', 'left_eyebrow_inner_end_y',\n",
        "            'left_eyebrow_outer_end_x', 'left_eyebrow_outer_end_y',\n",
        "            'right_eyebrow_inner_end_x', 'right_eyebrow_inner_end_y',\n",
        "            'right_eyebrow_outer_end_x', 'right_eyebrow_outer_end_y',\n",
        "            'nose_tip_x', 'nose_tip_y',\n",
        "            'mouth_left_corner_x', 'mouth_left_corner_y',\n",
        "            'mouth_right_corner_x', 'mouth_right_corner_y',\n",
        "            'mouth_center_top_lip_x', 'mouth_center_top_lip_y',\n",
        "            'mouth_center_bottom_lip_x', 'mouth_center_bottom_lip_y'\n",
        "        ]\n",
        "        self.keypoint_columns = [col for col in keypoint_columns if col in self.annotations.columns]\n",
        "\n",
        "\n",
        "\n",
        "    def __len__(self):\n",
        "        return len(self.annotations)\n",
        "\n",
        "    def __getitem__(self, idx):\n",
        "        img_name = os.path.join(self.root_dir, f'{idx}.png')\n",
        "        if not os.path.exists(img_name):\n",
        "             return None\n",
        "\n",
        "        image = Image.open(img_name).convert(\"L\")\n",
        "\n",
        "        label = self.annotations.loc[idx, self.keypoint_columns].values.astype('float32')\n",
        "\n",
        "        label[np.isnan(label)] = 0.0\n",
        "\n",
        "        label = torch.tensor(label)\n",
        "\n",
        "        if self.transform:\n",
        "            image = self.transform(image)\n",
        "\n",
        "        return image, label"
      ]
    },
    {
      "cell_type": "code",
      "execution_count": 5,
      "metadata": {
        "id": "SX_JYBc3d3Ku",
        "colab": {
          "base_uri": "https://localhost:8080/"
        },
        "outputId": "375c93d3-c675-4c4c-8544-3646f3cf4e32"
      },
      "outputs": [
        {
          "output_type": "stream",
          "name": "stdout",
          "text": [
            "Generated 7049 images in the 'generated_images' directory.\n"
          ]
        }
      ],
      "source": [
        "output_dir = 'generated_images'\n",
        "os.makedirs(output_dir, exist_ok=True)\n",
        "\n",
        "train_df = pd.read_csv('./training.csv')\n",
        "\n",
        "for index, row in train_df.iterrows():\n",
        "    image_pixels = row['Image'].split(' ')\n",
        "    image_array = np.array([p for p in image_pixels if p != ''], dtype=np.uint8)\n",
        "\n",
        "    try:\n",
        "        img = Image.fromarray(image_array.reshape(96, 96), mode='L')\n",
        "        filename = f'{output_dir}/{index}.png'\n",
        "        img.save(filename)\n",
        "    except ValueError as e:\n",
        "        print(f\"Skipping row {index} due to incorrect pixel data length: {e}\")\n",
        "        continue\n",
        "\n",
        "print(f\"Generated {len(train_df)} images in the '{output_dir}' directory.\")"
      ]
    },
    {
      "cell_type": "markdown",
      "source": [
        "## 2. Define Dataset and Transforms"
      ],
      "metadata": {
        "id": "afg4lKpUUasQ"
      }
    },
    {
      "cell_type": "code",
      "execution_count": 6,
      "metadata": {
        "id": "BAt7zRwX2taQ"
      },
      "outputs": [],
      "source": [
        "transform = transforms.Compose([\n",
        "    transforms.Resize((100, 100)),\n",
        "    transforms.ToTensor(),\n",
        "    transforms.Normalize(mean=[0.5], std=[0.5])\n",
        "])"
      ]
    },
    {
      "cell_type": "code",
      "execution_count": 7,
      "metadata": {
        "id": "qnL0FcrF2ye3"
      },
      "outputs": [],
      "source": [
        "csv_file='training.csv'\n",
        "root_dir='generated_images'\n",
        "dataset = FacialKeypointsDataset(csv_file, root_dir, transform=transform)"
      ]
    },
    {
      "cell_type": "code",
      "execution_count": 8,
      "metadata": {
        "id": "VW7Gt81SE35f"
      },
      "outputs": [],
      "source": [
        "valid_indices = [i for i in range(len(dataset)) if dataset[i] is not None]\n",
        "valid_dataset = torch.utils.data.Subset(dataset, valid_indices)"
      ]
    },
    {
      "cell_type": "code",
      "execution_count": 9,
      "metadata": {
        "id": "uyLvaogfE6Ba"
      },
      "outputs": [],
      "source": [
        "train_size = int(0.8 * len(valid_dataset))\n",
        "val_size = len(valid_dataset) - train_size\n",
        "train_set, val_set = random_split(valid_dataset, [train_size, val_size])"
      ]
    },
    {
      "cell_type": "code",
      "execution_count": 10,
      "metadata": {
        "id": "ZPhPn0x02_XP",
        "colab": {
          "base_uri": "https://localhost:8080/"
        },
        "outputId": "d30aa06d-a161-4f35-fcbf-aaea30e1b9f5"
      },
      "outputs": [
        {
          "output_type": "stream",
          "name": "stderr",
          "text": [
            "/usr/local/lib/python3.11/dist-packages/torch/utils/data/dataloader.py:624: UserWarning: This DataLoader will create 4 worker processes in total. Our suggested max number of worker in current system is 2, which is smaller than what this DataLoader is going to create. Please be aware that excessive worker creation might get DataLoader running slow or even freeze, lower the worker number to avoid potential slowness/freeze if necessary.\n",
            "  warnings.warn(\n"
          ]
        }
      ],
      "source": [
        "train_loader = DataLoader(train_set, batch_size=128, shuffle=True, num_workers=4, pin_memory=True)\n",
        "val_loader = DataLoader(val_set, batch_size=128, num_workers=4, pin_memory=True)"
      ]
    },
    {
      "cell_type": "markdown",
      "source": [
        "## 3. Build the Model"
      ],
      "metadata": {
        "id": "xy5C6K84UeQj"
      }
    },
    {
      "cell_type": "code",
      "execution_count": 11,
      "metadata": {
        "id": "cADwxHUc3Dz7"
      },
      "outputs": [],
      "source": [
        "class KeypointCNN(nn.Module):\n",
        "    def __init__(self):\n",
        "        super(KeypointCNN, self).__init__()\n",
        "        self.features = nn.Sequential(\n",
        "            nn.Conv2d(1, 64, kernel_size=3),\n",
        "            nn.ReLU(),\n",
        "            nn.MaxPool2d(2),\n",
        "\n",
        "            nn.Conv2d(64, 128, kernel_size=3),\n",
        "            nn.ReLU(),\n",
        "            nn.MaxPool2d(2),\n",
        "\n",
        "            nn.Conv2d(128, 256, kernel_size=3),\n",
        "            nn.ReLU(),\n",
        "            nn.MaxPool2d(2),\n",
        "\n",
        "            nn.Dropout(0.1)\n",
        "        )\n",
        "\n",
        "        self.classifier = nn.Sequential(\n",
        "            nn.Flatten(),\n",
        "            nn.Linear(256 * 10 * 10, 64),\n",
        "            nn.ReLU(),\n",
        "            nn.Dropout(0.2),\n",
        "            nn.Linear(64, 30)\n",
        "        )\n",
        "\n",
        "    def forward(self, x):\n",
        "        x = self.features(x)\n",
        "        x = self.classifier(x)\n",
        "        return x"
      ]
    },
    {
      "cell_type": "markdown",
      "source": [
        "## 4. Train the Model"
      ],
      "metadata": {
        "id": "-IboL2NdUhfM"
      }
    },
    {
      "cell_type": "code",
      "execution_count": 12,
      "metadata": {
        "id": "xyCYbR0f6ahH"
      },
      "outputs": [],
      "source": [
        "device = torch.device('cpu')\n",
        "model = KeypointCNN().to(device)\n",
        "criterion = nn.MSELoss()\n",
        "optimizer = Adam(model.parameters(), lr=0.001)"
      ]
    },
    {
      "cell_type": "code",
      "execution_count": 13,
      "metadata": {
        "id": "KHV2jMM7Gxd_",
        "colab": {
          "base_uri": "https://localhost:8080/"
        },
        "outputId": "a41e611c-6640-4850-eed5-4852f2d2acee"
      },
      "outputs": [
        {
          "output_type": "stream",
          "name": "stdout",
          "text": [
            "Epoch 1/5, Training Loss: 657.1006, Validation Loss: 408.3532\n",
            "Epoch 2/5, Training Loss: 466.0706, Validation Loss: 390.8029\n",
            "Epoch 3/5, Training Loss: 441.7546, Validation Loss: 425.3676\n",
            "Epoch 4/5, Training Loss: 417.3843, Validation Loss: 395.4104\n",
            "Epoch 5/5, Training Loss: 372.2564, Validation Loss: 323.9772\n"
          ]
        }
      ],
      "source": [
        "num_epochs = 5\n",
        "best_val_loss = float('inf')\n",
        "epoch = 0\n",
        "for epoch in range(num_epochs):\n",
        "    model.train()\n",
        "    running_loss = 0.0\n",
        "\n",
        "    for inputs, labels in train_loader:\n",
        "        inputs, labels = inputs.to(device), labels.to(device)\n",
        "\n",
        "        outputs = model(inputs)\n",
        "        loss = criterion(outputs, labels)\n",
        "\n",
        "        optimizer.zero_grad()\n",
        "        loss.backward()\n",
        "        optimizer.step()\n",
        "        running_loss += loss.item()\n",
        "\n",
        "    val_loss = 0.0\n",
        "    model.eval()\n",
        "    with torch.no_grad():\n",
        "        for inputs, labels in val_loader:\n",
        "            inputs, labels = inputs.to(device), labels.to(device)\n",
        "            outputs = model(inputs)\n",
        "            loss = criterion(outputs, labels)\n",
        "            val_loss += loss.item()\n",
        "    loss = running_loss / len(train_loader)\n",
        "    val_loss = val_loss / len(val_loader)\n",
        "    if val_loss < best_val_loss:\n",
        "        best_val_loss = val_loss\n",
        "        torch.save(model.state_dict(), 'best_model.pth')\n",
        "    print(f\"Epoch {epoch+1}/{num_epochs}, Training Loss: {loss:.4f}, Validation Loss: {val_loss:.4f}\")"
      ]
    },
    {
      "cell_type": "markdown",
      "source": [
        "## 5. Evaluate on Validation Set"
      ],
      "metadata": {
        "id": "vG101BEjUlT_"
      }
    },
    {
      "cell_type": "code",
      "source": [
        "output_dir = 'test'\n",
        "os.makedirs(output_dir, exist_ok=True)\n",
        "\n",
        "train_df = pd.read_csv('./test.csv')\n",
        "\n",
        "for index, row in train_df.iterrows():\n",
        "    image_pixels = row['Image'].split(' ')\n",
        "    image_array = np.array([p for p in image_pixels if p != ''], dtype=np.uint8)\n",
        "\n",
        "    try:\n",
        "        img = Image.fromarray(image_array.reshape(96, 96), mode='L')\n",
        "        filename = f'{output_dir}/{index}.png'\n",
        "        img.save(filename)\n",
        "    except ValueError as e:\n",
        "        print(f\"Skipping row {index} due to incorrect pixel data length: {e}\")\n",
        "        continue\n",
        "\n",
        "print(f\"Generated {len(train_df)} images in the '{output_dir}' directory.\")"
      ],
      "metadata": {
        "colab": {
          "base_uri": "https://localhost:8080/"
        },
        "id": "Fke2dk8gwFlM",
        "outputId": "8b0128d4-97d2-4c35-9025-48fac69efa82"
      },
      "execution_count": 14,
      "outputs": [
        {
          "output_type": "stream",
          "name": "stdout",
          "text": [
            "Generated 1783 images in the 'test' directory.\n"
          ]
        }
      ]
    },
    {
      "cell_type": "code",
      "source": [
        "device = torch.device('cpu')\n",
        "criterion = nn.MSELoss()\n",
        "optimizer = Adam(model.parameters(), lr=0.001)"
      ],
      "metadata": {
        "id": "9GhUHa3pPqje"
      },
      "execution_count": 15,
      "outputs": []
    },
    {
      "cell_type": "code",
      "source": [
        "model = KeypointCNN()\n",
        "model.load_state_dict(torch.load(\"best_model.pth\"))\n",
        "model.eval()\n",
        "model.to(device)"
      ],
      "metadata": {
        "id": "VHWMch2xMq1D",
        "colab": {
          "base_uri": "https://localhost:8080/"
        },
        "outputId": "ab37fd00-a573-4c86-a67b-d2b18f49567a"
      },
      "execution_count": 16,
      "outputs": [
        {
          "output_type": "execute_result",
          "data": {
            "text/plain": [
              "KeypointCNN(\n",
              "  (features): Sequential(\n",
              "    (0): Conv2d(1, 64, kernel_size=(3, 3), stride=(1, 1))\n",
              "    (1): ReLU()\n",
              "    (2): MaxPool2d(kernel_size=2, stride=2, padding=0, dilation=1, ceil_mode=False)\n",
              "    (3): Conv2d(64, 128, kernel_size=(3, 3), stride=(1, 1))\n",
              "    (4): ReLU()\n",
              "    (5): MaxPool2d(kernel_size=2, stride=2, padding=0, dilation=1, ceil_mode=False)\n",
              "    (6): Conv2d(128, 256, kernel_size=(3, 3), stride=(1, 1))\n",
              "    (7): ReLU()\n",
              "    (8): MaxPool2d(kernel_size=2, stride=2, padding=0, dilation=1, ceil_mode=False)\n",
              "    (9): Dropout(p=0.1, inplace=False)\n",
              "  )\n",
              "  (classifier): Sequential(\n",
              "    (0): Flatten(start_dim=1, end_dim=-1)\n",
              "    (1): Linear(in_features=25600, out_features=64, bias=True)\n",
              "    (2): ReLU()\n",
              "    (3): Dropout(p=0.2, inplace=False)\n",
              "    (4): Linear(in_features=64, out_features=30, bias=True)\n",
              "  )\n",
              ")"
            ]
          },
          "metadata": {},
          "execution_count": 16
        }
      ]
    },
    {
      "cell_type": "code",
      "source": [
        "transform = transforms.Compose([\n",
        "    transforms.Resize((100, 100)),\n",
        "    transforms.ToTensor(),\n",
        "    transforms.Normalize(mean=[0.5], std=[0.5])\n",
        "])"
      ],
      "metadata": {
        "id": "Kk7OyRiBNgc3"
      },
      "execution_count": 17,
      "outputs": []
    },
    {
      "cell_type": "code",
      "source": [
        "def evaluate_model(model, dataloader, criterion, device):\n",
        "    model.eval()\n",
        "    total_loss = 0.0\n",
        "    with torch.no_grad():\n",
        "        for images, keypoints in dataloader:\n",
        "            images, keypoints = images.to(device), keypoints.to(device)\n",
        "            outputs = model(images)\n",
        "            loss = criterion(outputs, keypoints.view(outputs.shape))\n",
        "            total_loss += loss.item()\n",
        "    return total_loss / len(dataloader)"
      ],
      "metadata": {
        "id": "N3uEz1eRMuwF"
      },
      "execution_count": 18,
      "outputs": []
    },
    {
      "cell_type": "code",
      "source": [
        "val_loss = evaluate_model(model, val_loader, criterion, device)\n",
        "print(f\"Validation MSE: {val_loss:.4f}\")"
      ],
      "metadata": {
        "id": "bj-HW58pNarI",
        "colab": {
          "base_uri": "https://localhost:8080/"
        },
        "outputId": "82198e85-0785-4816-c43c-4217df8d430f"
      },
      "execution_count": 19,
      "outputs": [
        {
          "output_type": "stream",
          "name": "stderr",
          "text": [
            "/usr/local/lib/python3.11/dist-packages/torch/utils/data/dataloader.py:624: UserWarning: This DataLoader will create 4 worker processes in total. Our suggested max number of worker in current system is 2, which is smaller than what this DataLoader is going to create. Please be aware that excessive worker creation might get DataLoader running slow or even freeze, lower the worker number to avoid potential slowness/freeze if necessary.\n",
            "  warnings.warn(\n"
          ]
        },
        {
          "output_type": "stream",
          "name": "stdout",
          "text": [
            "Validation MSE: 323.9772\n"
          ]
        }
      ]
    },
    {
      "cell_type": "markdown",
      "source": [
        "## 6. Predict on Test Images"
      ],
      "metadata": {
        "id": "XB4q21nYUn_y"
      }
    },
    {
      "cell_type": "code",
      "source": [
        "def predict_and_display(model, image_path, device):\n",
        "    image = Image.open(image_path).convert(\"L\")\n",
        "    transformed = transform(image).unsqueeze(0).to(device)\n",
        "\n",
        "\n",
        "    model.eval()\n",
        "    with torch.no_grad():\n",
        "        output = model(transformed)\n",
        "        keypoints = output.view(-1, 2).cpu().numpy()\n",
        "\n",
        "    display_image = image.resize((96, 96), Image.NEAREST)\n",
        "\n",
        "    plt.figure(figsize=(6, 6))\n",
        "    plt.imshow(display_image, cmap='gray')\n",
        "    plt.scatter(keypoints[:, 0], keypoints[:, 1], c='red', s=20)\n",
        "    plt.title(\"Predicted Keypoints\")\n",
        "    plt.axis('off')\n",
        "    plt.gca().set_aspect('equal', adjustable='box')\n",
        "    plt.show()"
      ],
      "metadata": {
        "id": "1aJnsN3hvaEq"
      },
      "execution_count": 85,
      "outputs": []
    },
    {
      "cell_type": "code",
      "source": [
        "predict_and_display(model, './test/1.png', device)"
      ],
      "metadata": {
        "colab": {
          "base_uri": "https://localhost:8080/",
          "height": 521
        },
        "id": "BKtJM8Isv3Sm",
        "outputId": "68124db1-3d3a-4b4f-c0e5-7266160b7361"
      },
      "execution_count": 86,
      "outputs": [
        {
          "output_type": "display_data",
          "data": {
            "text/plain": [
              "<Figure size 600x600 with 1 Axes>"
            ],
            "image/png": "[encoded data removed]"
          },
          "metadata": {}
        }
      ]
    }
  ],
  "metadata": {
    "colab": {
      "provenance": []
    },
    "kernelspec": {
      "display_name": "Python 3",
      "name": "python3"
    },
    "language_info": {
      "name": "python"
    }
  },
  "nbformat": 4,
  "nbformat_minor": 0
}